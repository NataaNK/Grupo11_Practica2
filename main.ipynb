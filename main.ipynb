{
 "cells": [
  {
   "cell_type": "markdown",
   "metadata": {},
   "source": [
    "## <span style=\"color:#80DAEB\">FUNCIÓN K-MEANS</span>\n",
    "\n",
    "Programar k-means, utilizando buenas prácticas de programación, es decir, debe ser una función y comparar los resultados y la eficiencia con la implementación de k-means en scikit-learn."
   ]
  },
  {
   "cell_type": "code",
   "execution_count": 2,
   "metadata": {},
   "outputs": [
    {
     "name": "stdout",
     "output_type": "stream",
     "text": [
      "Centroides finales:\n",
      "[[0.8039633  0.57026999]\n",
      " [0.18520943 0.72228065]\n",
      " [0.36376248 0.20008043]]\n"
     ]
    }
   ],
   "source": [
    "import numpy as np\n",
    "\n",
    "def initialize_centroids(X, K):\n",
    "    \"\"\"Inicializa los centroides seleccionando K puntos aleatorios del dataset.\n",
    "    \n",
    "    Args:\n",
    "    X : ndarray\n",
    "        Datos de entrada (n x d) donde n es el número de puntos de datos y d es la dimensión.\n",
    "    K : int\n",
    "        Número de centroides/clusters.\n",
    "        \n",
    "    Returns:\n",
    "    centroids : ndarray\n",
    "        Array de centroides inicializados (K x d).\n",
    "    \"\"\"\n",
    "    indices = np.random.choice(X.shape[0], K, replace=False)\n",
    "    centroids = X[indices]\n",
    "    return centroids\n",
    "\n",
    "def assign_clusters(X, centroids):\n",
    "    \"\"\"Asigna cada punto de datos al centroide más cercano.\n",
    "    \n",
    "    Args:\n",
    "    X : ndarray\n",
    "        Datos de entrada.\n",
    "    centroids : ndarray\n",
    "        Array actual de centroides.\n",
    "        \n",
    "    Returns:\n",
    "    labels : ndarray\n",
    "        Etiquetas de cluster para cada punto de datos.\n",
    "    \"\"\"\n",
    "    distances = np.sqrt(((X - centroids[:, np.newaxis])**2).sum(axis=2))\n",
    "    labels = np.argmin(distances, axis=0)\n",
    "    return labels\n",
    "\n",
    "def update_centroids(X, labels, K):\n",
    "    \"\"\"Actualiza la posición de los centroides basándose en la media de los puntos asignados.\n",
    "    \n",
    "    Args:\n",
    "    X : ndarray\n",
    "        Datos de entrada.\n",
    "    labels : ndarray\n",
    "        Etiquetas de cluster actuales para los datos.\n",
    "    K : int\n",
    "        Número de clusters.\n",
    "        \n",
    "    Returns:\n",
    "    centroids : ndarray\n",
    "        Nuevos centroides calculados.\n",
    "    \"\"\"\n",
    "    centroids = np.array([X[labels == k].mean(axis=0) for k in range(K)])\n",
    "    return centroids\n",
    "\n",
    "def custom_k_means(X, K, num_iters=100):\n",
    "    \"\"\"Algoritmo K-means para clustering.\n",
    "    \n",
    "    Args:\n",
    "    X : ndarray\n",
    "        Datos de entrada.\n",
    "    K : int\n",
    "        Número de clusters.\n",
    "    num_iters : int\n",
    "        Número de iteraciones.\n",
    "        \n",
    "    Returns:\n",
    "    centroids : ndarray\n",
    "        Centroides finales.\n",
    "    labels : ndarray\n",
    "        Etiquetas finales de los clusters.\n",
    "    \"\"\"\n",
    "    centroids = initialize_centroids(X, K)\n",
    "    for i in range(num_iters):\n",
    "        labels = assign_clusters(X, centroids)\n",
    "        new_centroids = update_centroids(X, labels, K)\n",
    "        if np.all(centroids == new_centroids):\n",
    "            break\n",
    "        centroids = new_centroids\n",
    "    return centroids, labels\n",
    "\n",
    "# Ejemplo de uso del algoritmo K-means\n",
    "# Generamos algunos datos aleatorios\n",
    "np.random.seed(42)\n",
    "data = np.random.rand(100, 2)  # 100 puntos en 2D\n",
    "num_clusters = 3  # Número de clusters\n",
    "\n",
    "# Ejecutar K-means\n",
    "centroids, labels = custom_k_means(data, num_clusters)\n",
    "\n",
    "print(\"Centroides finales:\")\n",
    "print(centroids)\n"
   ]
  },
  {
   "cell_type": "markdown",
   "metadata": {},
   "source": [
    "\n",
    "### Explicación del código:\n",
    "1. **Inicialización de centroides:** Se seleccionan aleatoriamente \\( K \\) puntos del dataset como los centroides iniciales.\n",
    "2. **Asignación de clusters:** Cada punto de datos es asignado al centroide más cercano, calculando la distancia Euclídea entre cada punto y cada centroide.\n",
    "3. **Actualización de centroides:** Se recalculan los centroides como el promedio de todos los puntos asignados a cada cluster.\n",
    "4. **Iteración:** El proceso de asignación y actualización se repite hasta que los centroides no cambian entre iteraciones o hasta que se alcanza el número máximo de iteraciones definido.\n"
   ]
  },
  {
   "cell_type": "markdown",
   "metadata": {},
   "source": [
    "#### <span style=\"color:#80DAEB\">Comparación con K-Means de scikit-learn</span>\n",
    "\n",
    "Comparar los resultados y la eficiencia con la implementación de k-means en scikit-learn."
   ]
  },
  {
   "cell_type": "code",
   "execution_count": 3,
   "metadata": {},
   "outputs": [
    {
     "name": "stdout",
     "output_type": "stream",
     "text": [
      "Tiempo de ejecución personalizado: 0.0050 segundos\n",
      "Tiempo de ejecución scikit-learn: 0.1511 segundos\n",
      "Silhouette personalizado: 0.3916\n",
      "Silhouette scikit-learn: 0.3660\n"
     ]
    }
   ],
   "source": [
    "import numpy as np\n",
    "import time\n",
    "from sklearn.cluster import KMeans\n",
    "from sklearn.metrics import silhouette_score\n",
    "\n",
    "\n",
    "# Generación de datos aleatorios para el clustering\n",
    "np.random.seed(42)\n",
    "data = np.random.rand(1000, 2)  # 1000 puntos en 2D para una prueba más sustancial\n",
    "num_clusters = 3  # Número de clusters\n",
    "\n",
    "# Ejecución del K-means personalizado\n",
    "start_time_custom = time.time()\n",
    "centroids_custom, labels_custom = custom_k_means(data, num_clusters)\n",
    "end_time_custom = time.time()\n",
    "time_custom = end_time_custom - start_time_custom\n",
    "\n",
    "# Ejecución del K-means de scikit-learn\n",
    "start_time_sklearn = time.time()\n",
    "kmeans_sklearn = KMeans(n_clusters=num_clusters, random_state=42)\n",
    "labels_sklearn = kmeans_sklearn.fit_predict(data)\n",
    "end_time_sklearn = time.time()\n",
    "time_sklearn = end_time_sklearn - start_time_sklearn\n",
    "\n",
    "# Comparación de la calidad de los clusters mediante el coeficiente Silhouette\n",
    "silhouette_custom = silhouette_score(data, labels_custom)\n",
    "silhouette_sklearn = silhouette_score(data, labels_sklearn)\n",
    "\n",
    "print(f\"Tiempo de ejecución personalizado: {time_custom:.4f} segundos\")\n",
    "print(f\"Tiempo de ejecución scikit-learn: {time_sklearn:.4f} segundos\")\n",
    "print(f\"Silhouette personalizado: {silhouette_custom:.4f}\")\n",
    "print(f\"Silhouette scikit-learn: {silhouette_sklearn:.4f}\")\n"
   ]
  },
  {
   "cell_type": "markdown",
   "metadata": {},
   "source": [
    "\n",
    "### Análisis de los Resultados\n",
    "\n",
    "1. **Tiempo de ejecución**:\n",
    "   - **Personalizado**: 0.0050 segundos\n",
    "   - **Scikit-learn**: 0.1511 segundos\n",
    "\n",
    "   La implementación personalizada es significativamente más rápida que la implementación de `scikit-learn`. Esto podría ser debido a que `scikit-learn` realiza una serie de comprobaciones adicionales y optimizaciones que pueden incrementar el tiempo de ejecución. Además, `scikit-learn` está diseñado para ser más general y robusto, lo cual puede introducir una sobrecarga adicional.\n",
    "\n",
    "2. **Coeficiente Silhouette**:\n",
    "   - **Personalizado**: 0.3916\n",
    "   - **Scikit-learn**: 0.3660\n",
    "\n",
    "   El coeficiente Silhouette mide cuán similares son los objetos dentro de su propio cluster comparados con los de otros clusters. Un valor más alto es mejor, ya que indica clusters más compactos y bien separados. La implementación personalizada no solo fue más rápida, sino que también generó clusters de mejor calidad según esta métrica.\n",
    "\n",
    "### Conclusiones\n",
    "\n",
    "- La **implementación personalizada** es excelente en términos de eficiencia y calidad de clustering para el conjunto de datos y configuración específicos que utilizamos. Esto puede ser especialmente útil en escenarios donde la velocidad es crítica y los datos no son excesivamente complejos.\n",
    "  \n",
    "- **Scikit-learn**, aunque más lento en este caso específico, es robusto y ampliamente utilizado en la industria debido a su flexibilidad y las numerosas funcionalidades que ofrece, como la fácil integración con pipelines de Machine Learning y métodos para determinar automáticamente el número de clusters.\n",
    "\n",
    "- Si es necesaria velocidad y los datos son relativamente simples donde el método de inicialización y las iteraciones del K-means no varían significativamente, la implementación personalizada puede ser muy adecuada.\n",
    "  \n",
    "- Para aplicaciones más complejas o cuando se requieren características adicionales (como diferentes métricas de distancia, inicialización de centroides más sofisticada, etc.), `scikit-learn` sería más apropiado.\n",
    "\n",
    "Esta comparación muestra cómo las implementaciones personalizadas pueden ser optimizadas para ciertos escenarios específicos, proporcionando un excelente rendimiento tanto en velocidad como en calidad de clustering."
   ]
  }
 ],
 "metadata": {
  "kernelspec": {
   "display_name": "Python 3",
   "language": "python",
   "name": "python3"
  },
  "language_info": {
   "codemirror_mode": {
    "name": "ipython",
    "version": 3
   },
   "file_extension": ".py",
   "mimetype": "text/x-python",
   "name": "python",
   "nbconvert_exporter": "python",
   "pygments_lexer": "ipython3",
   "version": "3.11.9"
  }
 },
 "nbformat": 4,
 "nbformat_minor": 2
}
